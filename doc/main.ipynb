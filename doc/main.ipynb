{
 "cells": [
  {
   "cell_type": "markdown",
   "id": "3eca015a",
   "metadata": {},
   "source": [
    "# Project 4 - Group 2: Algorithm Implementation and Evaluation\n",
    "## A1: Learning fair representations (LFR) \n",
    "## A3: Maximizing fairness under accuracy constraints (gamma and Fine-gamma)\n",
    "\n"
   ]
  },
  {
   "cell_type": "code",
   "execution_count": 1,
   "id": "ccbc93d8",
   "metadata": {},
   "outputs": [],
   "source": [
    "import warnings\n",
    "warnings.filterwarnings(\"ignore\")"
   ]
  },
  {
   "cell_type": "code",
   "execution_count": 2,
   "id": "97f98f3b",
   "metadata": {},
   "outputs": [],
   "source": [
    "import pandas as pd\n",
    "import numpy as np\n",
    "import scipy.optimize as optim\n",
    "import math\n",
    "import time\n",
    "from sklearn.metrics import accuracy_score\n",
    "from sklearn.linear_model import LogisticRegression\n",
    "from sklearn.model_selection import train_test_split\n",
    "#import utils as ut\n",
    "from tabulate import tabulate\n",
    "from scipy.optimize import minimize\n",
    "from sklearn.metrics import log_loss\n",
    "from scipy import optimize\n",
    "np.set_printoptions(threshold=np.inf)\n",
    "import matplotlib.pyplot as plt"
   ]
  },
  {
   "cell_type": "markdown",
   "id": "e1149855",
   "metadata": {},
   "source": [
    "## Data pre-processing\n",
    "\n",
    "For this project, we are using the [COMPAS dataset](https://www.propublica.org/datastore/dataset/compas-recidivism-risk-score-data-and-analysis) for our algorithms."
   ]
  },
  {
   "cell_type": "code",
   "execution_count": 3,
   "id": "30a89cb6",
   "metadata": {},
   "outputs": [],
   "source": [
    "# Load Dataset\n",
    "data = pd.read_csv('../data/compas-scores-two-years.csv')"
   ]
  },
  {
   "cell_type": "code",
   "execution_count": 4,
   "id": "04039d72",
   "metadata": {},
   "outputs": [],
   "source": [
    "variables = ['age', 'c_charge_degree', 'race', 'age_cat', 'score_text', 'sex', 'priors_count', \n",
    "           'days_b_screening_arrest', 'decile_score', 'is_recid', 'two_year_recid','c_jail_in', 'c_jail_out']\n",
    "data = data[variables]\n",
    "# data"
   ]
  },
  {
   "cell_type": "code",
   "execution_count": 5,
   "id": "7642a32a",
   "metadata": {},
   "outputs": [],
   "source": [
    "data = data[(data.race == 'Caucasian') | (data.race == 'African-American')]\n",
    "data = data[(data.days_b_screening_arrest < 30) & (data.days_b_screening_arrest >= -30)]\n",
    "data.drop(columns=['days_b_screening_arrest'], inplace = True)\n",
    "data = data[data.is_recid != -1]\n",
    "data = data[data.c_charge_degree != 'O']\n",
    "data['length_of_stay'] = (pd.to_datetime(data[\"c_jail_out\"]) - pd.to_datetime(data['c_jail_in'])).astype('timedelta64[D]')\n",
    "data.drop(columns=['c_jail_in', 'c_jail_out'], inplace=True)\n",
    "# data"
   ]
  },
  {
   "cell_type": "code",
   "execution_count": 6,
   "id": "407da958",
   "metadata": {},
   "outputs": [
    {
     "data": {
      "text/html": [
       "<div>\n",
       "<style scoped>\n",
       "    .dataframe tbody tr th:only-of-type {\n",
       "        vertical-align: middle;\n",
       "    }\n",
       "\n",
       "    .dataframe tbody tr th {\n",
       "        vertical-align: top;\n",
       "    }\n",
       "\n",
       "    .dataframe thead th {\n",
       "        text-align: right;\n",
       "    }\n",
       "</style>\n",
       "<table border=\"1\" class=\"dataframe\">\n",
       "  <thead>\n",
       "    <tr style=\"text-align: right;\">\n",
       "      <th></th>\n",
       "      <th>race</th>\n",
       "      <th>age_cat</th>\n",
       "      <th>c_charge_degree</th>\n",
       "      <th>sex</th>\n",
       "      <th>priors_count</th>\n",
       "      <th>length_of_stay</th>\n",
       "      <th>score_text</th>\n",
       "      <th>two_year_recid</th>\n",
       "      <th>decile_score</th>\n",
       "    </tr>\n",
       "  </thead>\n",
       "  <tbody>\n",
       "    <tr>\n",
       "      <th>1</th>\n",
       "      <td>0.0</td>\n",
       "      <td>0.0</td>\n",
       "      <td>1.0</td>\n",
       "      <td>0.0</td>\n",
       "      <td>0</td>\n",
       "      <td>10.0</td>\n",
       "      <td>0.0</td>\n",
       "      <td>1</td>\n",
       "      <td>3</td>\n",
       "    </tr>\n",
       "    <tr>\n",
       "      <th>2</th>\n",
       "      <td>0.0</td>\n",
       "      <td>1.0</td>\n",
       "      <td>1.0</td>\n",
       "      <td>0.0</td>\n",
       "      <td>4</td>\n",
       "      <td>1.0</td>\n",
       "      <td>0.0</td>\n",
       "      <td>1</td>\n",
       "      <td>4</td>\n",
       "    </tr>\n",
       "    <tr>\n",
       "      <th>6</th>\n",
       "      <td>1.0</td>\n",
       "      <td>0.0</td>\n",
       "      <td>1.0</td>\n",
       "      <td>0.0</td>\n",
       "      <td>14</td>\n",
       "      <td>6.0</td>\n",
       "      <td>2.0</td>\n",
       "      <td>1</td>\n",
       "      <td>6</td>\n",
       "    </tr>\n",
       "    <tr>\n",
       "      <th>8</th>\n",
       "      <td>1.0</td>\n",
       "      <td>0.0</td>\n",
       "      <td>0.0</td>\n",
       "      <td>1.0</td>\n",
       "      <td>0</td>\n",
       "      <td>2.0</td>\n",
       "      <td>0.0</td>\n",
       "      <td>0</td>\n",
       "      <td>1</td>\n",
       "    </tr>\n",
       "    <tr>\n",
       "      <th>10</th>\n",
       "      <td>1.0</td>\n",
       "      <td>0.0</td>\n",
       "      <td>1.0</td>\n",
       "      <td>0.0</td>\n",
       "      <td>0</td>\n",
       "      <td>1.0</td>\n",
       "      <td>0.0</td>\n",
       "      <td>0</td>\n",
       "      <td>4</td>\n",
       "    </tr>\n",
       "    <tr>\n",
       "      <th>...</th>\n",
       "      <td>...</td>\n",
       "      <td>...</td>\n",
       "      <td>...</td>\n",
       "      <td>...</td>\n",
       "      <td>...</td>\n",
       "      <td>...</td>\n",
       "      <td>...</td>\n",
       "      <td>...</td>\n",
       "      <td>...</td>\n",
       "    </tr>\n",
       "    <tr>\n",
       "      <th>7207</th>\n",
       "      <td>0.0</td>\n",
       "      <td>0.0</td>\n",
       "      <td>0.0</td>\n",
       "      <td>0.0</td>\n",
       "      <td>0</td>\n",
       "      <td>0.0</td>\n",
       "      <td>0.0</td>\n",
       "      <td>1</td>\n",
       "      <td>2</td>\n",
       "    </tr>\n",
       "    <tr>\n",
       "      <th>7208</th>\n",
       "      <td>0.0</td>\n",
       "      <td>1.0</td>\n",
       "      <td>1.0</td>\n",
       "      <td>0.0</td>\n",
       "      <td>0</td>\n",
       "      <td>0.0</td>\n",
       "      <td>1.0</td>\n",
       "      <td>0</td>\n",
       "      <td>9</td>\n",
       "    </tr>\n",
       "    <tr>\n",
       "      <th>7209</th>\n",
       "      <td>0.0</td>\n",
       "      <td>1.0</td>\n",
       "      <td>1.0</td>\n",
       "      <td>0.0</td>\n",
       "      <td>0</td>\n",
       "      <td>1.0</td>\n",
       "      <td>2.0</td>\n",
       "      <td>0</td>\n",
       "      <td>7</td>\n",
       "    </tr>\n",
       "    <tr>\n",
       "      <th>7210</th>\n",
       "      <td>0.0</td>\n",
       "      <td>1.0</td>\n",
       "      <td>1.0</td>\n",
       "      <td>0.0</td>\n",
       "      <td>0</td>\n",
       "      <td>1.0</td>\n",
       "      <td>0.0</td>\n",
       "      <td>0</td>\n",
       "      <td>3</td>\n",
       "    </tr>\n",
       "    <tr>\n",
       "      <th>7212</th>\n",
       "      <td>0.0</td>\n",
       "      <td>0.0</td>\n",
       "      <td>0.0</td>\n",
       "      <td>1.0</td>\n",
       "      <td>3</td>\n",
       "      <td>1.0</td>\n",
       "      <td>0.0</td>\n",
       "      <td>0</td>\n",
       "      <td>2</td>\n",
       "    </tr>\n",
       "  </tbody>\n",
       "</table>\n",
       "<p>5276 rows × 9 columns</p>\n",
       "</div>"
      ],
      "text/plain": [
       "      race  age_cat  c_charge_degree  sex  priors_count  length_of_stay  \\\n",
       "1      0.0      0.0              1.0  0.0             0            10.0   \n",
       "2      0.0      1.0              1.0  0.0             4             1.0   \n",
       "6      1.0      0.0              1.0  0.0            14             6.0   \n",
       "8      1.0      0.0              0.0  1.0             0             2.0   \n",
       "10     1.0      0.0              1.0  0.0             0             1.0   \n",
       "...    ...      ...              ...  ...           ...             ...   \n",
       "7207   0.0      0.0              0.0  0.0             0             0.0   \n",
       "7208   0.0      1.0              1.0  0.0             0             0.0   \n",
       "7209   0.0      1.0              1.0  0.0             0             1.0   \n",
       "7210   0.0      1.0              1.0  0.0             0             1.0   \n",
       "7212   0.0      0.0              0.0  1.0             3             1.0   \n",
       "\n",
       "      score_text  two_year_recid  decile_score  \n",
       "1            0.0               1             3  \n",
       "2            0.0               1             4  \n",
       "6            2.0               1             6  \n",
       "8            0.0               0             1  \n",
       "10           0.0               0             4  \n",
       "...          ...             ...           ...  \n",
       "7207         0.0               1             2  \n",
       "7208         1.0               0             9  \n",
       "7209         2.0               0             7  \n",
       "7210         0.0               0             3  \n",
       "7212         0.0               0             2  \n",
       "\n",
       "[5276 rows x 9 columns]"
      ]
     },
     "execution_count": 6,
     "metadata": {},
     "output_type": "execute_result"
    }
   ],
   "source": [
    "data['race']= data['race'].replace(['African-American','Caucasian'],[0,1.0])\n",
    "data['sex'] = data['sex'].replace(['Male','Female'],[0,1.0])\n",
    "data['age_cat'] = data['age_cat'].replace(['25 - 45','Less than 25', 'Greater than 45'],[0,1.0,2.0])\n",
    "data['c_charge_degree'] = data['c_charge_degree'].replace(['M','F'],[0,1.0])\n",
    "data['score_text'] = data['score_text'].replace(['Low', 'High', 'Medium'],[0,1.0,2.0])\n",
    "data_clean = data[['race', 'age_cat', 'c_charge_degree', 'sex', 'priors_count', 'length_of_stay', 'score_text','two_year_recid', 'decile_score']]\n",
    "data_clean = data_clean.dropna()\n",
    "data_clean"
   ]
  },
  {
   "cell_type": "code",
   "execution_count": 7,
   "id": "f9456513",
   "metadata": {},
   "outputs": [],
   "source": [
    "y = data_clean.two_year_recid\n",
    "X = data_clean.drop(columns=['two_year_recid'])"
   ]
  },
  {
   "cell_type": "code",
   "execution_count": 8,
   "id": "adcb011a",
   "metadata": {},
   "outputs": [],
   "source": [
    "y = np.array(y)\n",
    "X_train, X_test, y_train, y_test = train_test_split(X,y,test_size=1/7,random_state=123)\n",
    "x_sensitive_tr = X_train.loc[:, 'race']\n",
    "x_sensitive_te = X_test.loc[:, 'race']\n",
    "# X_train = X_train.loc[:, X_train.columns != 'race']\n",
    "# X_test = X_test.loc[:, X_test.columns != 'race']"
   ]
  },
  {
   "cell_type": "markdown",
   "id": "87fd0f68",
   "metadata": {},
   "source": [
    "### Baseline Model"
   ]
  },
  {
   "cell_type": "code",
   "execution_count": 9,
   "id": "5565da31",
   "metadata": {},
   "outputs": [
    {
     "name": "stdout",
     "output_type": "stream",
     "text": [
      "Train accuracy: 0.6744803184431667\n",
      "Test accuracy: 0.6671087533156499\n"
     ]
    }
   ],
   "source": [
    "model_base = LogisticRegression().fit(X_train,y_train.flatten())\n",
    "base_y_train = model_base.predict(X_train)\n",
    "base_y_test = model_base.predict(X_test)\n",
    "\n",
    "theta_star = model_base.coef_.flatten()\n",
    "\n",
    "#metrics\n",
    "print('Train accuracy: ' + str(model_base.score(X_train,y_train.flatten())))\n",
    "print('Test accuracy: ' + str(model_base.score(X_test,y_test.flatten())))"
   ]
  },
  {
   "cell_type": "code",
   "execution_count": 10,
   "id": "902978dd",
   "metadata": {},
   "outputs": [],
   "source": [
    "#Calculate the P% \n",
    "def p_rule_percent(sensitive, y_predicted):\n",
    "    \n",
    "    z_one_index = np.where(sensitive == 1)[0]  \n",
    "    z_zero_index = np.where(sensitive == 0)[0] \n",
    "    \n",
    "    total_protected = len(z_one_index)\n",
    "    total_unprotected = len(z_zero_index)\n",
    "\n",
    "    prediction_protected = np.where(y_predicted[z_one_index]==1)[0]\n",
    "    prediction_unprotected = np.where(y_predicted[z_zero_index]==1)[0]\n",
    "    \n",
    "    total_protected_pred = len(prediction_protected)\n",
    "    total_unprotected_pred = len(prediction_unprotected)\n",
    "\n",
    "\n",
    "    protected_ratio = total_protected_pred/total_protected\n",
    "    unprotected_ratio = total_unprotected_pred/total_unprotected\n",
    "    \n",
    "    p_percent_ratio = min(protected_ratio/unprotected_ratio, unprotected_ratio/protected_ratio)\n",
    "    return p_percent_ratio,protected_ratio, unprotected_ratio "
   ]
  },
  {
   "cell_type": "code",
   "execution_count": 11,
   "id": "6b69e3b2",
   "metadata": {},
   "outputs": [],
   "source": [
    "def calibration(y_pred,y_true,sensitive):\n",
    "    true0 = 0\n",
    "    true1 = 0\n",
    "    total0 = 0\n",
    "    total1 = 0\n",
    "    for i in range(len(y_pred)):\n",
    "        if sensitive[i]==0:\n",
    "            total0 +=1\n",
    "            if list(y_true)[i]==y_pred[i]:\n",
    "                true0 +=1\n",
    "        else:\n",
    "            total1 += 1\n",
    "            if list(y_true)[i]==y_pred[i]:\n",
    "                true1 += 1\n",
    "    true0 /= total0\n",
    "    true1 /= total1\n",
    "    return abs(true0 - true1)"
   ]
  },
  {
   "cell_type": "code",
   "execution_count": 12,
   "id": "5c4631e8",
   "metadata": {},
   "outputs": [],
   "source": [
    "def parity(y_pred,sensitive):\n",
    "    true0 = 0\n",
    "    true1 = 0\n",
    "    total0 = 0\n",
    "    total1 = 0\n",
    "    for i in range(len(y_pred)):\n",
    "        if sensitive[i]==0:\n",
    "            total0 +=1\n",
    "            if (y_pred[i]==1):\n",
    "                true0 +=1\n",
    "        else:\n",
    "            total1 += 1\n",
    "            if (y_pred[i]==1):\n",
    "                true1 += 1\n",
    "    true0 /= total0\n",
    "    true1 /= total1\n",
    "    return abs(true0-true1)"
   ]
  },
  {
   "cell_type": "code",
   "execution_count": 13,
   "id": "ea43aeea",
   "metadata": {},
   "outputs": [],
   "source": [
    "def EOD(y_pred,y_true,sensitive):\n",
    "    true0 = 0\n",
    "    true1 = 0\n",
    "    total0 = 0\n",
    "    total1 = 0\n",
    "    for i in range(len(y_pred)):\n",
    "        if(sensitive[i]==0 and y_true [i]==0):\n",
    "            total0 +=1\n",
    "            if (y_pred[i]==0):\n",
    "                true0 +=1\n",
    "        elif(sensitive[i]==1 and y_true[i]==0):\n",
    "            total1 += 1\n",
    "            if (y_pred[i]==0):\n",
    "                true1 += 1\n",
    "    true0 /= total0\n",
    "    true1 /= total1\n",
    "    return abs(true0-true1)"
   ]
  },
  {
   "cell_type": "code",
   "execution_count": 14,
   "id": "509d170e",
   "metadata": {},
   "outputs": [
    {
     "name": "stdout",
     "output_type": "stream",
     "text": [
      "0.33333333333333337\n"
     ]
    }
   ],
   "source": [
    "s = [0,0,0,0,0,1,1,1,1,1]\n",
    "a = [0,0,1,1,1,0,0,1,1,1]\n",
    "b = [0,0,1,1,1,0,0,0,1,1]\n",
    "print(EOD(a,b,s))"
   ]
  },
  {
   "cell_type": "code",
   "execution_count": 15,
   "id": "7e242ecf",
   "metadata": {},
   "outputs": [
    {
     "name": "stdout",
     "output_type": "stream",
     "text": [
      "P% for the data without optimization:  (0.470369589852681, 0.24189944134078212, 0.5142752562225475)\n",
      "Actual Train Loss:  0.6053670398617021\n",
      "test accuracy: 0.6671087533156499\n",
      "calibration for the data without optimization:  0.05568958147689318\n",
      "parity for the data without optimization:  0.23152434562749488\n",
      "Equality of odds(True negative) for the data without optimization:  0.19551407077180272\n"
     ]
    }
   ],
   "source": [
    "X_train = np.array(X_train)\n",
    "X_test  = np.array(X_test)\n",
    "y_train = np.array(y_train)\n",
    "y_test = np.array(y_test)\n",
    "x_sensitive_te = np.array(x_sensitive_te)\n",
    "base_y_train_2 = np.array(base_y_train)\n",
    "x_sensitive_tr = np.array(x_sensitive_tr)\n",
    "\n",
    "#print(p_rule_percent(x_sensitive_tr, y_train))\n",
    "print(\"P% for the data without optimization: \",p_rule_percent(x_sensitive_tr, base_y_train_2))\n",
    "actual_train_loss = log_loss(y_train, model_base.predict_proba(X_train))\n",
    "print(\"Actual Train Loss: \", actual_train_loss)\n",
    "print('test accuracy: ' + str(model_base.score(X_test,y_test.flatten())))\n",
    "print(\"calibration for the data without optimization: \",calibration(base_y_test, y_test,x_sensitive_te))\n",
    "print(\"parity for the data without optimization: \",parity(base_y_test,x_sensitive_te))\n",
    "print(\"Equality of odds(True negative) for the data without optimization: \",EOD(base_y_test,y_test,x_sensitive_te))"
   ]
  },
  {
   "cell_type": "markdown",
   "id": "8525cd8f",
   "metadata": {},
   "source": [
    "## Algorithm 1: Learning Fair Representaions"
   ]
  },
  {
   "cell_type": "markdown",
   "id": "83259f60",
   "metadata": {},
   "source": [
    "that the proportion of members in a protected group receiving positive classification is identical to the proportion in the population as a whole. Individual fairness ensures that similar individuals should be treated similarly. The authors formulate fairness as an optimization problem with the goal of finding a good representation of the data that encodes the data as well as possible while obfuscating any information about membership in the protected group. They develop a learning approach called Learned Fair Representations (LFR) that learns a set of intermediate representations or prototypes, which are used to satisfy two competing goals: (i) encode the data as well as possible, and (ii) sanitize the encoded representation to be blind to whether or not the individual is from the protected group. The LFR model has two sets of parameters: the prototype locations and the parameters governing the mapping from prototypes to classification decisions. The learning system minimizes an objective function (shown below) with three terms corresponding to the goals of statistical parity, information preservation, and accurate classification."
   ]
  },
  {
   "cell_type": "markdown",
   "id": "1b3361a1",
   "metadata": {},
   "source": [
    "#### Objective Function:\n",
    "$L = A_{z} \\cdot L_{z} + A_{x} \\cdot L_{x} + A_{y} \\cdot L_{y}$\n",
    "\n",
    "(Eqn. 4)"
   ]
  },
  {
   "cell_type": "code",
   "execution_count": 16,
   "id": "56b368da",
   "metadata": {},
   "outputs": [],
   "source": [
    "# Data Splitting\n",
    "data_train, data_test = train_test_split(data_clean, test_size = 1/7, random_state = 1)\n",
    "data_train, data_val = train_test_split(data_train, test_size = 1/6, random_state = 1)"
   ]
  },
  {
   "cell_type": "code",
   "execution_count": 17,
   "id": "4c48e850",
   "metadata": {},
   "outputs": [],
   "source": [
    "data_train = pd.concat([data_train.sex,data_train.race,data_train.decile_score,data_train.two_year_recid],axis=1)\n",
    "data_train = data_train.iloc[:20]\n",
    "data_val = pd.concat([data_val.sex,data_val.race,data_val.decile_score,data_val.two_year_recid],axis=1)\n",
    "data_test = pd.concat([data_test.sex,data_test.race,data_test.decile_score,data_test.two_year_recid],axis=1)"
   ]
  },
  {
   "cell_type": "markdown",
   "id": "7cc9ef74",
   "metadata": {},
   "source": [
    "### Functions needed to minimize the objective function"
   ]
  },
  {
   "cell_type": "markdown",
   "id": "6b2e7a23",
   "metadata": {},
   "source": [
    "#### Equation 12\n",
    "$d(\\textbf{x}_n,\\textbf{v}_{k},\\alpha) = \\sum\\limits_{i=1}^{D}\\alpha_{i}(x_{ni} - v_{ki})^2$\n",
    "\n",
    "- This equation calculates the weighted Euclidean distance between data points and cluster centroids."
   ]
  },
  {
   "cell_type": "code",
   "execution_count": 18,
   "id": "50dc3564",
   "metadata": {},
   "outputs": [],
   "source": [
    "# Returns a distance matrix with shape (num_data_points, num_centroids)\n",
    "def weighted_euclidean_distance(data_points, centroids, feature_weights):\n",
    "    # data_points: a dataset of shape (num_data_points, num_features)\n",
    "    # centroids: a list of centroid vectors, each of length num_features\n",
    "    # feature_weights: a list of weights for each feature\n",
    "\n",
    "    num_data_points = data_points.shape[0]\n",
    "    num_features = data_points.shape[1]\n",
    "    num_centroids = len(centroids)\n",
    "\n",
    "    # Initialize the distance matrix\n",
    "    distance_matrix = np.zeros((num_data_points, num_centroids))\n",
    "\n",
    "    # Calculate weighted Euclidean distances\n",
    "    for point_idx in range(num_data_points):\n",
    "        for centroid_idx in range(num_centroids):\n",
    "            for feature_idx in range(num_features):\n",
    "                distance_matrix[point_idx, centroid_idx] += (\n",
    "                    feature_weights[feature_idx] *\n",
    "                    (data_points.iloc[point_idx][feature_idx] - centroids[centroid_idx, feature_idx])**2)\n",
    "\n",
    "    return distance_matrix"
   ]
  },
  {
   "cell_type": "markdown",
   "id": "c5506d02",
   "metadata": {},
   "source": [
    "#### Equation 3\n",
    "\n",
    "$M_{n,k} = P(Z = k|\\textbf{x}_{n})= \\dfrac{e^{−d(\\textbf{x}, \\textbf{v}_{k}))}}{\\sum\\limits_{j=1}^{K} e^{−d(\\textbf{x}, \\textbf{v}_{j})}}, ∀n,k$\n",
    "\n",
    "- This equation calculates the probability matrix P(cluster=k|data_point), representing the probability that each data point belongs to a specific cluster centroid."
   ]
  },
  {
   "cell_type": "code",
   "execution_count": 19,
   "id": "ca48bb47",
   "metadata": {},
   "outputs": [],
   "source": [
    "# Returns a probability matrix with shape (num_data_points, num_centroids)\n",
    "def calculate_probability_matrix(distance_matrix, num_centroids):\n",
    "    # distance_matrix: a distance matrix with shape (num_data_points, num_centroids)\n",
    "    # num_centroids: the number of centroids\n",
    "\n",
    "    num_data_points = distance_matrix.shape[0]\n",
    "\n",
    "    probability_matrix = np.zeros((num_data_points, num_centroids))\n",
    "    exp_distances = np.zeros((num_data_points, num_centroids))\n",
    "\n",
    "    # Calculate the probability matrix\n",
    "    for data_point_idx in range(num_data_points):\n",
    "        denominator = 0\n",
    "        for centroid_idx in range(num_centroids):\n",
    "            exp_distances[data_point_idx, centroid_idx] = math.exp(-1 * distance_matrix[data_point_idx, centroid_idx])\n",
    "            denominator += exp_distances[data_point_idx, centroid_idx]\n",
    "        for centroid_idx in range(num_centroids):\n",
    "            probability_matrix[data_point_idx, centroid_idx] = exp_distances[data_point_idx, centroid_idx] / denominator\n",
    "\n",
    "    return probability_matrix"
   ]
  },
  {
   "cell_type": "markdown",
   "id": "f306c811",
   "metadata": {},
   "source": [
    "#### Equation 6\n",
    "$M_{k}^{+} = \\mathbb{E}_{\\textbf{x}∈X^{+}}P(Z = k|\\textbf{x}) = \\dfrac{1}{|X_{0}^{+}|}\\sum\\limits_{n∈X_{0}^{+}}M_{n,k}$\n",
    "\n",
    "$M_{k}^{-}$ similarly\n",
    "\n",
    "- This equation calculates the list of cluster probabilities M_k."
   ]
  },
  {
   "cell_type": "code",
   "execution_count": 20,
   "id": "a8e865d1",
   "metadata": {},
   "outputs": [],
   "source": [
    "# Returns a list of probabilities for each cluster centroid\n",
    "def calculate_cluster_probabilities(data_points, probability_matrix, num_centroids):\n",
    "    # data_points: the dataset\n",
    "    # probability_matrix: the probability matrix P(cluster=k|data_point)\n",
    "    # num_centroids: the number of centroids\n",
    "\n",
    "    num_data_points = data_points.shape[0]\n",
    "\n",
    "    cluster_probabilities = np.zeros(num_centroids)\n",
    "\n",
    "    # Calculate cluster probabilities\n",
    "    for centroid_idx in range(num_centroids):\n",
    "        for data_point_idx in range(num_data_points):\n",
    "            cluster_probabilities[centroid_idx] += probability_matrix[data_point_idx, centroid_idx]\n",
    "        cluster_probabilities[centroid_idx] /= num_data_points\n",
    "\n",
    "    return cluster_probabilities"
   ]
  },
  {
   "cell_type": "markdown",
   "id": "0fbb5665",
   "metadata": {},
   "source": [
    "#### Equation 8, 9\n",
    "\n",
    "$L_{x} = \\sum\\limits_{n=1}^{N}(x_{n} - \\hat{x}_{n})^2$\n",
    "\n",
    "$\\hat{x}_{n} = \\sum\\limits_{k=1}^{K}M_{n,k}\\textbf{v}_{k}$\n",
    "\n",
    "- This equation calculate the reconstructed data points and the reconstruction error L_x."
   ]
  },
  {
   "cell_type": "code",
   "execution_count": 21,
   "id": "18cf0acf",
   "metadata": {},
   "outputs": [],
   "source": [
    "# Returns the reconstructed data points with shape (num_data_points, num_features) and L_x\n",
    "def reconstruct_data_points(data_points, probability_matrix, centroids):\n",
    "    # data_points: the dataset\n",
    "    # probability_matrix: the probability matrix P(cluster=k|data_point)\n",
    "    # centroids: a list of centroid vectors, each of length num_features\n",
    "\n",
    "    num_data_points = probability_matrix.shape[0]\n",
    "    num_features = data_points.shape[1]\n",
    "    num_centroids = probability_matrix.shape[1]\n",
    "\n",
    "    reconstructed_data_points = np.zeros((num_data_points, num_features))\n",
    "    reconstruction_error = 0\n",
    "\n",
    "    # Calculate reconstructed data points\n",
    "    for data_point_idx in range(num_data_points):\n",
    "        for feature_idx in range(num_features):\n",
    "            for centroid_idx in range(num_centroids):\n",
    "                reconstructed_data_points[data_point_idx, feature_idx] += (\n",
    "                    probability_matrix[data_point_idx, centroid_idx] * centroids[centroid_idx, feature_idx]\n",
    "                )\n",
    "        # Calculate reconstruction error\n",
    "        reconstruction_error += (data_points.iloc[data_point_idx][feature_idx] - reconstructed_data_points[data_point_idx, feature_idx])**2\n",
    "\n",
    "    return reconstructed_data_points, reconstruction_error"
   ]
  },
  {
   "cell_type": "markdown",
   "id": "9adf837e",
   "metadata": {},
   "source": [
    "#### Equation 10, 11\n",
    "\n",
    "$L_{y} = \\sum\\limits_{n=1}^{N}-y_{n}log\\hat{y}_{n}-(1-y_{n})log(1-\\hat{y}_{n})$\n",
    "\n",
    "$\\hat{y}_{n} = \\sum\\limits_{k=1}^{K}M_{n,k}w_{k}$\n",
    "\n",
    "- This equaiton calculates the list of predicted labels for data points and the label prediction error L_y.\n"
   ]
  },
  {
   "cell_type": "code",
   "execution_count": 22,
   "id": "18d87d87",
   "metadata": {},
   "outputs": [],
   "source": [
    "# Returns the list of predicted labels and L_y\n",
    "def predict_labels(probability_matrix, weights, labels):\n",
    "    # probability_matrix: the probability matrix P(cluster=k|data_point)\n",
    "    # weights: a list of weights of length num_centroids\n",
    "    # labels: the corresponding list of labels for the data points\n",
    "\n",
    "    num_data_points = probability_matrix.shape[0]\n",
    "    num_centroids = probability_matrix.shape[1]\n",
    "\n",
    "    predicted_labels = np.zeros(num_data_points)\n",
    "    prediction_error = 0\n",
    "\n",
    "    # Calculate predicted labels\n",
    "    for data_point_idx in range(num_data_points):\n",
    "        for centroid_idx in range(num_centroids):\n",
    "            predicted_labels[data_point_idx] += probability_matrix[data_point_idx, centroid_idx] * weights[centroid_idx]\n",
    "        \n",
    "        # Calculate prediction error\n",
    "        prediction_error += (\n",
    "            -1 * labels.iloc[data_point_idx] * np.log(predicted_labels[data_point_idx]) -\n",
    "            (1 - labels.iloc[data_point_idx]) * np.log(1 - predicted_labels[data_point_idx])\n",
    "        )\n",
    "\n",
    "    return predicted_labels, prediction_error"
   ]
  },
  {
   "cell_type": "markdown",
   "id": "4c788da5",
   "metadata": {},
   "source": [
    "#### Equation 7\n",
    "\n",
    "$L_{z} = \\sum\\limits_{k=1}^{K}|M_{k}^{+} - M_{k}^{-}|$"
   ]
  },
  {
   "cell_type": "code",
   "execution_count": 23,
   "id": "741bb716",
   "metadata": {},
   "outputs": [],
   "source": [
    "def L(params, sensitive_data, nonsensitive_data, sensitive_labels, nonsensitive_labels, num_centroids, weight_Lz, weight_Lx, weight_Ly):\n",
    "    # params: the list of parameters\n",
    "    # sensitive_data: the sensitive dataset\n",
    "    # nonsensitive_data: the nonsensitive dataset\n",
    "    # sensitive_labels: the list of labels for the sensitive dataset\n",
    "    # nonsensitive_labels: the list of labels for the nonsensitive dataset\n",
    "    # num_centroids, weight_Lz, weight_Lx, and weight_Ly are hyperparameters, decided by the users\n",
    "\n",
    "    sensitive_num_data_points, sensitive_num_features = sensitive_data.shape\n",
    "    nonsensitive_num_data_points, nonsensitive_num_features = nonsensitive_data.shape\n",
    "\n",
    "    # Form parameters in correct format\n",
    "    alpha_sensitive = params[:sensitive_num_features]\n",
    "    alpha_nonsensitive = params[sensitive_num_features : 2 * sensitive_num_features]\n",
    "    weights = params[2 * sensitive_num_features : (2 * sensitive_num_features) + num_centroids]\n",
    "    centroids = np.matrix(params[(2 * sensitive_num_features) + num_centroids:]).reshape((num_centroids, sensitive_num_features))\n",
    "\n",
    "    # Calculate the distance matrix\n",
    "    dist_sensitive = weighted_euclidean_distance(sensitive_data, centroids, alpha_sensitive)\n",
    "    dist_nonsensitive = weighted_euclidean_distance(nonsensitive_data, centroids, alpha_nonsensitive)\n",
    "\n",
    "    # Calculate the probability matrix M_nk\n",
    "    prob_matrix_sensitive = calculate_probability_matrix(dist_sensitive, num_centroids)\n",
    "    prob_matrix_nonsensitive = calculate_probability_matrix(dist_nonsensitive, num_centroids)\n",
    "\n",
    "    # Calculate the cluster probability matrix M_k\n",
    "    cluster_prob_sensitive = calculate_cluster_probabilities(sensitive_data, prob_matrix_sensitive, num_centroids)\n",
    "    cluster_prob_nonsensitive = calculate_cluster_probabilities(nonsensitive_data, prob_matrix_nonsensitive, num_centroids)\n",
    "\n",
    "    # Calculate L_z\n",
    "    L_z = 0\n",
    "    for centroid_idx in range(num_centroids):\n",
    "        L_z += abs(cluster_prob_sensitive[centroid_idx] - cluster_prob_nonsensitive[centroid_idx])\n",
    "\n",
    "    # Calculate reconstructed data points and L_x\n",
    "    reconstructed_sensitive, L_x_sensitive = reconstruct_data_points(sensitive_data, prob_matrix_sensitive, centroids)\n",
    "    reconstructed_nonsensitive, L_x_nonsensitive = reconstruct_data_points(nonsensitive_data, prob_matrix_nonsensitive, centroids)\n",
    "    L_x = L_x_sensitive + L_x_nonsensitive\n",
    "\n",
    "    # Calculate predicted labels and L_y\n",
    "    predicted_sensitive, L_y_sensitive = predict_labels(prob_matrix_sensitive, weights, sensitive_labels)\n",
    "    predicted_nonsensitive, L_y_nonsensitive = predict_labels(prob_matrix_nonsensitive, weights, nonsensitive_labels)\n",
    "    L_y = L_y_sensitive + L_y_nonsensitive\n",
    "\n",
    "    # The function we want to minimize\n",
    "    loss_metric = weight_Lz * L_z + weight_Lx * L_x + weight_Ly * L_y\n",
    "\n",
    "    return loss_metric"
   ]
  },
  {
   "cell_type": "code",
   "execution_count": 24,
   "id": "ba93fa0c",
   "metadata": {},
   "outputs": [],
   "source": [
    "# Apply a threshold to the predicted labels to convert them into binary values (0 or 1)\n",
    "def apply_prediction_threshold(predictions):\n",
    "    for idx in range(len(predictions)):\n",
    "        if predictions[idx] >= 0.5:\n",
    "            predictions[idx] = 1\n",
    "        else:\n",
    "            predictions[idx] = 0\n",
    "    return predictions"
   ]
  },
  {
   "cell_type": "code",
   "execution_count": 25,
   "id": "25c3dd9d",
   "metadata": {},
   "outputs": [],
   "source": [
    "# Calculate predicted labels using the best parameters\n",
    "def calculate_predictions(params, num_features, num_centroids, sensitive_data, nonsensitive_data, sensitive_labels, nonsensitive_labels):\n",
    "    # Reformat parameters\n",
    "    best_alpha_sensitive = params[:num_features]\n",
    "    best_alpha_nonsensitive = params[num_features : 2 * num_features]\n",
    "    best_weights = params[2 * num_features : (2 * num_features) + num_centroids]\n",
    "    best_centroids = np.matrix(params[(2 * num_features) + num_centroids:]).reshape((num_centroids, num_features))\n",
    "\n",
    "    # Calculate the distance matrix\n",
    "    best_dist_sensitive = weighted_euclidean_distance(sensitive_data, best_centroids, best_alpha_sensitive)\n",
    "    best_dist_nonsensitive = weighted_euclidean_distance(nonsensitive_data, best_centroids, best_alpha_nonsensitive)\n",
    "\n",
    "    # Calculate the probability matrix M_nk\n",
    "    best_prob_matrix_sensitive = calculate_probability_matrix(best_dist_sensitive, num_centroids)\n",
    "    best_prob_matrix_nonsensitive = calculate_probability_matrix(best_dist_nonsensitive, num_centroids)\n",
    "\n",
    "    # Calculate the predicted labels\n",
    "    predicted_sensitive_labels, _ = predict_labels(best_prob_matrix_sensitive, best_weights, sensitive_labels)\n",
    "    predicted_nonsensitive_labels, _ = predict_labels(best_prob_matrix_nonsensitive, best_weights, nonsensitive_labels)\n",
    "\n",
    "    return predicted_sensitive_labels, predicted_nonsensitive_labels"
   ]
  },
  {
   "cell_type": "code",
   "execution_count": 26,
   "id": "20103906",
   "metadata": {},
   "outputs": [],
   "source": [
    "# Calculate the total accuracy, separate accuracy for sensitive (African American) and nonsensitive (Caucasian) groups, and calibration\n",
    "def calculate_calibration(predicted_sensitive_labels, predicted_nonsensitive_labels, true_sensitive_labels, true_nonsensitive_labels):\n",
    "    # Apply threshold to predictions\n",
    "    converted_pred_sensitive = apply_prediction_threshold(predicted_sensitive_labels)\n",
    "    converted_pred_nonsensitive = apply_prediction_threshold(predicted_nonsensitive_labels)\n",
    "\n",
    "    predicted_sensitive_labels_df = pd.DataFrame(converted_pred_sensitive)\n",
    "    predicted_nonsensitive_labels_df = pd.DataFrame(converted_pred_nonsensitive)\n",
    "\n",
    "    # Calculate the accuracy\n",
    "    accuracy_sensitive = accuracy_score(true_sensitive_labels, predicted_sensitive_labels_df)\n",
    "    accuracy_nonsensitive = accuracy_score(true_nonsensitive_labels, predicted_nonsensitive_labels_df)\n",
    "\n",
    "    all_true_labels = true_sensitive_labels.append(true_nonsensitive_labels)\n",
    "    all_predicted_labels = predicted_sensitive_labels_df.append(predicted_nonsensitive_labels_df)\n",
    "    total_accuracy = accuracy_score(all_predicted_labels, all_true_labels)\n",
    "\n",
    "    table = [[\"Overall\",total_accuracy],[\"Sensitive\",accuracy_sensitive],\n",
    "            [\"Nonsensitive\",accuracy_nonsensitive],\n",
    "             [\"Calibration\",abs(accuracy_sensitive - accuracy_nonsensitive)]]\n",
    "    \n",
    "    print(tabulate(table, headers = [\"Group\",\"Accuracy\"],tablefmt = \"orgtbl\"))\n",
    "    "
   ]
  },
  {
   "cell_type": "code",
   "execution_count": 27,
   "id": "e4904994",
   "metadata": {},
   "outputs": [],
   "source": [
    "# def calculate_parity(y_predicted, sensitive):\n",
    "#     true0 = 0\n",
    "#     true1 = 0\n",
    "#     total0 = 0\n",
    "#     total1 = 0\n",
    "    \n",
    "#     for i in range(len(y_predicted)):\n",
    "#         if sensitive[i] == 0:\n",
    "#             total0 += 1\n",
    "#             if y_predicted[i] == 1:\n",
    "#                 true0 += 1\n",
    "#         else:\n",
    "#             total1 += 1\n",
    "#             if y_predicted[i] == 1:\n",
    "#                 true1 += 1\n",
    "    \n",
    "#     true0 /= total0\n",
    "#     true1 /= total1\n",
    "#     return abs(true0-true1)"
   ]
  },
  {
   "cell_type": "code",
   "execution_count": 28,
   "id": "80fa9a06",
   "metadata": {},
   "outputs": [],
   "source": [
    "# The main LFR function returns the best parameters and the results for training and validation accuracy\n",
    "def LFR(training_data, validation_data, y_name, sensitive_variable_name, K, A_z, A_x, A_y):\n",
    "    # Divide the training set into sensitive & nonsensitive groups\n",
    "    sensitive_training = training_data[training_data[sensitive_variable_name]==0]\n",
    "    nonsensitive_training = training_data[training_data[sensitive_variable_name]==1]\n",
    "\n",
    "    # Divide the validation set into sensitive & nonsensitive groups\n",
    "    sensitive_validation = validation_data[validation_data[sensitive_variable_name]==0]\n",
    "    nonsensitive_validation = validation_data[validation_data[sensitive_variable_name]==1]\n",
    "\n",
    "    # Remove sensitive variable in the sensitive and nonsensitive training and validation groups\n",
    "    sensitive_training = sensitive_training.drop(columns=[sensitive_variable_name])\n",
    "    sensitive_validation = sensitive_validation.drop(columns=[sensitive_variable_name])\n",
    "    nonsensitive_training = nonsensitive_training.drop(columns=[sensitive_variable_name])\n",
    "    nonsensitive_validation = nonsensitive_validation.drop(columns=[sensitive_variable_name])\n",
    "\n",
    "    # Assign y labels for sensitive and nonsensitive training groups\n",
    "    y_sensitive_training = sensitive_training[y_name]\n",
    "    sensitive_training = sensitive_training.drop(columns=[y_name])\n",
    "    y_nonsensitive_training = nonsensitive_training[y_name]\n",
    "    nonsensitive_training = nonsensitive_training.drop(columns=[y_name])\n",
    "\n",
    "    # Assign y labels for sensitive and nonsensitive validation groups\n",
    "    y_sensitive_validation = sensitive_validation[y_name]\n",
    "    sensitive_validation = sensitive_validation.drop(columns=[y_name])\n",
    "    y_nonsensitive_validation = nonsensitive_validation[y_name]\n",
    "    nonsensitive_validation = nonsensitive_validation.drop(columns=[y_name])\n",
    "\n",
    "    # Initialize random values for parameters alpha and w (summing up to 1)\n",
    "    alpha_sensitive = np.random.random_sample((sensitive_training.shape[1],))\n",
    "    alpha_sensitive /= alpha_sensitive.sum()\n",
    "    alpha_nonsensitive = np.random.random_sample((nonsensitive_training.shape[1],))\n",
    "    alpha_nonsensitive /= alpha_nonsensitive.sum()\n",
    "    w_random = np.random.random_sample((K,))\n",
    "    w = w_random / w_random.sum()\n",
    "    v = np.random.random((K, sensitive_training.shape[1]))\n",
    "\n",
    "    # Prepare initial parameters\n",
    "    initial_parameters = np.concatenate([alpha_sensitive, alpha_nonsensitive, w, v.flatten()])\n",
    "\n",
    "    # Define parameter bounds\n",
    "    bounds = [(0, 1)] * (sensitive_training.shape[1] + nonsensitive_training.shape[1] + K)\n",
    "    bounds += [(None, None)] * (K * sensitive_training.shape[1])\n",
    "\n",
    "    # Minimize the metric using parameters alpha, w, and v\n",
    "    optimized_params, min_L, _ = optim.fmin_l_bfgs_b(L, x0=initial_parameters, epsilon=1e-5,\n",
    "                                         args=(sensitive_training, nonsensitive_training, y_sensitive_training,\n",
    "                                               y_nonsensitive_training, K, A_z, A_x, A_y),\n",
    "                                         bounds=bounds, approx_grad=True,\n",
    "                                         maxfun=150000, maxiter=150000)\n",
    "\n",
    "    # Predict y_n_hat for the training set\n",
    "    y_hat_sensitive_train, y_hat_nonsensitive_train = calculate_predictions(optimized_params, sensitive_training.shape[1], K, sensitive_training,\n",
    "                                                nonsensitive_training, y_sensitive_training, y_nonsensitive_training)\n",
    "\n",
    "    print(\"Training set:\")\n",
    "    calculate_calibration(y_hat_sensitive_train, y_hat_nonsensitive_train, y_sensitive_training, y_nonsensitive_training)\n",
    "        \n",
    "    # Predict y_n_hat for the validation set\n",
    "    y_hat_sensitive_val, y_hat_nonsensitive_val = calculate_predictions(optimized_params, sensitive_validation.shape[1], K, sensitive_validation,\n",
    "                                              nonsensitive_validation, y_sensitive_validation, y_nonsensitive_validation)\n",
    "\n",
    "    print(\"\")\n",
    "    print(\"Validation set:\")\n",
    "    calculate_calibration(y_hat_sensitive_val, y_hat_nonsensitive_val, y_sensitive_validation, y_nonsensitive_validation)\n",
    "\n",
    "    return optimized_params"
   ]
  },
  {
   "cell_type": "code",
   "execution_count": 29,
   "id": "e193224a",
   "metadata": {},
   "outputs": [
    {
     "name": "stdout",
     "output_type": "stream",
     "text": [
      "Training set:\n",
      "| Group        |   Accuracy |\n",
      "|--------------+------------|\n",
      "| Overall      |   0.75     |\n",
      "| Sensitive    |   0.636364 |\n",
      "| Nonsensitive |   0.888889 |\n",
      "| Calibration  |   0.252525 |\n",
      "\n",
      "Validation set:\n",
      "| Group        |   Accuracy |\n",
      "|--------------+------------|\n",
      "| Overall      |  0.526525  |\n",
      "| Sensitive    |  0.535637  |\n",
      "| Nonsensitive |  0.512027  |\n",
      "| Calibration  |  0.0236097 |\n",
      "Total training time: 230.12980484962463 seconds\n"
     ]
    }
   ],
   "source": [
    "# call LFR function to train the model\n",
    "start = time.time()\n",
    "optimized_params_for_test = LFR(data_train, data_val, 'two_year_recid', 'race', 10, 0.3, 0.3, 0.4)\n",
    "end = time.time() \n",
    "print( f\"Total training time: {end-start} seconds\")"
   ]
  },
  {
   "cell_type": "code",
   "execution_count": 30,
   "id": "795b0adf",
   "metadata": {},
   "outputs": [
    {
     "name": "stdout",
     "output_type": "stream",
     "text": [
      "Testing time: 1.6217546463012695 seconds\n",
      "| Group        |   Accuracy |\n",
      "|--------------+------------|\n",
      "| Overall      |  0.501326  |\n",
      "| Sensitive    |  0.509804  |\n",
      "| Nonsensitive |  0.488136  |\n",
      "| Calibration  |  0.0216683 |\n"
     ]
    }
   ],
   "source": [
    "# Testing result\n",
    "sensitive_test = data_test[data_test['race'] == 0]\n",
    "nonsensitive_test = data_test[data_test['race'] == 1]\n",
    "\n",
    "sensitive_test = sensitive_test.drop(columns=['race'])\n",
    "nonsensitive_test = nonsensitive_test.drop(columns=['race'])\n",
    "\n",
    "y_sensitive_test = sensitive_test['two_year_recid']\n",
    "sensitive_test = sensitive_test.drop(columns=['two_year_recid'])\n",
    "\n",
    "y_nonsensitive_test = nonsensitive_test['two_year_recid']\n",
    "nonsensitive_test = nonsensitive_test.drop(columns=['two_year_recid'])\n",
    "\n",
    "start = time.time()\n",
    "y_hat_sensitive_test, y_hat_nonsensitive_test = calculate_predictions(optimized_params_for_test, sensitive_test.shape[1], 10, sensitive_test,\n",
    "             nonsensitive_test, y_sensitive_test, y_nonsensitive_test)\n",
    "end = time.time()\n",
    "print(f\"Testing time: {end - start} seconds\")\n",
    "calculate_calibration(y_hat_sensitive_test, y_hat_nonsensitive_test, y_sensitive_test, y_nonsensitive_test)\n"
   ]
  },
  {
   "cell_type": "markdown",
   "id": "6ea50f0d",
   "metadata": {},
   "source": [
    "## A3 - Maximizing fairness under accuracy constraints"
   ]
  },
  {
   "cell_type": "markdown",
   "id": "ebc73bd4",
   "metadata": {},
   "source": [
    "The goal of this algorithm is to ensure compliance with the disparate impact by maximizing the fairness subject to accuracy constraints. Minimizing the corresponding absolute decision boundary covariance over the training set with constraints could help us find the decision boundary parameters. \n",
    "\n",
    "Here we use one gamma across individuals. This allows a relaxation on the accuracy from the unconstrained case with regard to accuracy so that the algorithm can minimize unfairness. The formular is defined below:"
   ]
  },
  {
   "cell_type": "markdown",
   "id": "9af6255f",
   "metadata": {},
   "source": [
    "<center>$min|\\frac{1}{N}\\sum\\limits_{i=1}^{N}(z_{i}-\\bar z)d_{\\theta}(x_{i})|$\n",
    "\n",
    "<center>$s.t.  L(\\theta) <= (1+\\gamma)L(\\theta ^{*})$</center>\n",
    "\n"
   ]
  },
  {
   "cell_type": "code",
   "execution_count": 31,
   "id": "d896c1dd",
   "metadata": {},
   "outputs": [],
   "source": [
    "model_base = LogisticRegression().fit(X_train,y_train.flatten())\n",
    "base_y_train = model_base.predict(X_train)\n",
    "base_y_test = model_base.predict(X_test)\n",
    "theta_star = model_base.coef_.flatten()\n",
    "X_train = np.array(X_train)\n",
    "X_test  = np.array(X_test)\n",
    "y_train = np.array(y_train)\n",
    "y_test = np.array(y_test)\n",
    "x_sensitive_te = np.array(x_sensitive_te)\n",
    "base_y_train_2 = np.array(base_y_train)\n",
    "x_sensitive_tr = np.array(x_sensitive_tr)\n",
    "actual_train_loss = log_loss(y_train, model_base.predict_proba(X_train))"
   ]
  },
  {
   "cell_type": "code",
   "execution_count": 32,
   "id": "72539d7c",
   "metadata": {},
   "outputs": [],
   "source": [
    "def optimize_function(w, x, protected_var):\n",
    "    dist_bound = np.dot(w, X_train.T)\n",
    "    protected_cov = (protected_var - np.mean(protected_var)) * dist_bound\n",
    "    return float(abs(sum(protected_cov))) / float(X_train.shape[0])\n",
    "\n",
    "def log_loss_constraint(weights, x, y, gamma):\n",
    "    prod = np.dot(x, weights.reshape(X_train.shape[1],1))\n",
    "    pred_probability = 1/(1+np.exp(-prod))\n",
    "    predicted_classes = np.concatenate((1-pred_probability, pred_probability), axis = 1)\n",
    "    loss = log_loss(y, predicted_classes)\n",
    "    return (1+gamma)*actual_train_loss - loss "
   ]
  },
  {
   "cell_type": "code",
   "execution_count": 33,
   "id": "80775ec9",
   "metadata": {},
   "outputs": [],
   "source": [
    "def accuracy(w, x, y):\n",
    "    shape = x.shape[1]\n",
    "    pred = np.dot(x, w.reshape(x.shape[1],1))\n",
    "    pred_prob = 1/(1+ np.exp(-pred))\n",
    "    pred_prob[pred_prob>=0.5] = 1\n",
    "    pred_prob[pred_prob<0.5] = 0\n",
    "    value = np.where(pred_prob== y.reshape(pred_prob.shape))\n",
    "    accuracy = value[0].shape[0]/pred_prob.shape[0]\n",
    "    return accuracy, pred_prob"
   ]
  },
  {
   "cell_type": "code",
   "execution_count": 34,
   "id": "5e59a737",
   "metadata": {},
   "outputs": [],
   "source": [
    "def optimization(x_train, y_train, x_test, y_test, protected_attr, protected_attr_test, gamma, optimal_weights):\n",
    "    cons = {'type':'ineq', 'fun': log_loss_constraint, 'args': (x_train, y_train, gamma)}\n",
    "\n",
    "    result = optimize.minimize(optimize_function, x0=optimal_weights,args= (x_train,protected_attr),method='SLSQP',constraints=cons,options={'maxiter':10000})\n",
    "    \n",
    "    accuracy_train, pred_y = accuracy(result.x, x_train, y_train)\n",
    "    p_rule_val, prot_perc, nonp_perc = p_rule_percent(protected_attr, pred_y)\n",
    "    calib_train = calibration(pred_y, y_train.flatten(),x_sensitive_tr)\n",
    "    \n",
    "    accuracy_test, y_pred_test = accuracy(result.x, x_test, y_test)\n",
    "    p_rule_val_test, prot_perc_test, nonp_perc_test = p_rule_percent(protected_attr_test, y_pred_test)\n",
    "    calib_test = calibration(y_pred_test, y_test.flatten(),x_sensitive_te)\n",
    "    parity_test = parity(y_pred_test,x_sensitive_te)\n",
    "    EOD_test = EOD(y_pred_test, y_test.flatten(),x_sensitive_te)\n",
    "    \n",
    "    print(\"\\nTest Accuracy for gamma \",gamma,\": \",accuracy_test)\n",
    "    print(\"P Rule percent: \", p_rule_val_test)\n",
    "    print(\"calibration: \", calib_test)\n",
    "    print(\"parity: \", parity_test)\n",
    "    print(\"Equality of odds: \", EOD_test)\n",
    "    \n",
    "    return accuracy_train,pred_y, p_rule_val, calib_train, accuracy_test, p_rule_val_test, y_pred_test,calib_test, parity_test, EOD_test"
   ]
  },
  {
   "cell_type": "code",
   "execution_count": 35,
   "id": "88c25da5",
   "metadata": {},
   "outputs": [
    {
     "name": "stdout",
     "output_type": "stream",
     "text": [
      "\n",
      "Test Accuracy for gamma  0.1 :  0.6087533156498673\n",
      "P Rule percent:  0.8344241446694998\n",
      "calibration:  0.08445081973151347\n",
      "parity:  0.03867191178920981\n",
      "Equality of odds:  0.00529395374756203\n",
      "\n",
      "Test Accuracy for gamma  0.15 :  0.5477453580901857\n",
      "P Rule percent:  0.7044728434504792\n",
      "calibration:  0.13959705287865942\n",
      "parity:  0.02680518426753023\n",
      "Equality of odds:  0.02477013095569791\n",
      "\n",
      "Test Accuracy for gamma  0.2 :  0.5225464190981433\n",
      "P Rule percent:  0.7886117409926934\n",
      "calibration:  0.1553686437301225\n",
      "parity:  0.006078256648772394\n",
      "Equality of odds:  0.00025076623014763655\n",
      "\n",
      "Test Accuracy for gamma  0.5 :  0.5106100795755968\n",
      "P Rule percent:  0.7827476038338659\n",
      "calibration:  0.1539269594951932\n",
      "parity:  0.004433722370737431\n",
      "Equality of odds:  0.01005851212036779\n"
     ]
    }
   ],
   "source": [
    "bias_factor_train = np.ones(X_train.shape[0]).reshape(X_train.shape[0],1)\n",
    "bias_factor_test = np.ones(X_test.shape[0]).reshape(X_test.shape[0],1)\n",
    "\n",
    "X_test =  np.concatenate((X_test, bias_factor_test), axis = 1)\n",
    "X_train = np.concatenate((X_train, bias_factor_train), axis = 1)\n",
    "#Creating the Weights Dataframe\n",
    "weights_df = np.concatenate((model_base.coef_, model_base.intercept_.reshape(1,1)),axis=1)\n",
    "gamma_list = [0.1,0.15,0.2,0.5]\n",
    "accuracy_list, p_list, cal_list_tr, cal_list_te =  [],[],[],[]\n",
    "parity_list_te, EOD_te = [],[]\n",
    "y_pred_train_list = []\n",
    "y_pred_test_list = []\n",
    "accuracy_list_test, p_test = [],[]\n",
    "for g in gamma_list:    \n",
    "    (accuracy_train, pred_y, p_rule_val, calib_train, accuracy_test, p_rule_val_test, y_pred_test, calib_test, parity_test, EOD_test) = optimization(X_train, y_train, X_test, y_test,x_sensitive_tr,x_sensitive_te,g,\n",
    "                                                                                    weights_df)\n",
    "                                                                                     \n",
    "    accuracy_list.append(accuracy_train)\n",
    "    y_pred_train_list.append(pred_y)\n",
    "    p_list.append(p_rule_val)\n",
    "    accuracy_list_test.append(accuracy_test)\n",
    "    y_pred_test_list.append(y_pred_test)\n",
    "    p_test.append(p_rule_val_test)\n",
    "    cal_list_tr.append(calib_train)\n",
    "    cal_list_te.append(calib_test)\n",
    "    parity_list_te.append(parity_test)\n",
    "    EOD_te.append(EOD_test)"
   ]
  },
  {
   "cell_type": "markdown",
   "id": "12a9c661",
   "metadata": {},
   "source": [
    "The accuracy of the model decrecases from around 0.67 (baseline model) to around 0.55. The calibration has increased from around 0.056 (baseline model) to around 0.15. The P rule percent has increased from around 0.47 (baseline model) to around 0.8. The parity has decreased from 0.23 (baseline model) to around 0.02. The Equality of odds has decreased from around 0.196 (baseline model) to around 0.01.\n",
    "\n",
    "Improving the p-rule percent can lead to better fairness compared to baseline model. The calibration, parity, equality of odds are metrics used to evaluate the fairness of a binary classifier with respect to two groups. Ideally, we want them to be as close to 0 as possible, indicating that there is no significant difference in the proportion of positive outcomes between the two groups.\n",
    "\n",
    "A gamma value of 0.1 is relatively good since it leads to increased p-rule value and parity and equality of odds values which are closed to 0, while the accuracy is not decreased much."
   ]
  },
  {
   "cell_type": "markdown",
   "id": "fbe3fb3c",
   "metadata": {},
   "source": [
    "## Graphs"
   ]
  },
  {
   "cell_type": "code",
   "execution_count": 36,
   "id": "c7fc1e51",
   "metadata": {},
   "outputs": [
    {
     "data": {
      "image/png": "[encoded data removed]",
      "text/plain": [
       "<Figure size 640x480 with 2 Axes>"
      ]
     },
     "metadata": {},
     "output_type": "display_data"
    }
   ],
   "source": [
    "fig, ax1 = plt.subplots()\n",
    "ax2 = ax1.twinx()\n",
    "ax1.plot(gamma_list, accuracy_list , 'g-')\n",
    "ax2.plot(gamma_list, p_list, 'b-')\n",
    "ax1.set_xlabel('Gamma - Loss Factor')\n",
    "ax1.set_ylabel('Accuracy', color='g')\n",
    "ax2.set_ylabel('p rule', color='b')\n",
    "ax2.set_title('Train Accuracy and p rule')\n",
    "ax2.set_ylim(0,1)\n",
    "plt.show()"
   ]
  },
  {
   "cell_type": "code",
   "execution_count": 38,
   "id": "44d374ec",
   "metadata": {},
   "outputs": [
    {
     "data": {
      "image/png": "[encoded data removed]",
      "text/plain": [
       "<Figure size 640x480 with 2 Axes>"
      ]
     },
     "metadata": {},
     "output_type": "display_data"
    }
   ],
   "source": [
    "fig, ax1 = plt.subplots()\n",
    "ax2 = ax1.twinx()\n",
    "ax1.plot(gamma_list, accuracy_list_test , 'g-')\n",
    "ax2.plot(gamma_list, p_test, 'b-')\n",
    "ax1.set_xlabel('Gamma - Loss Factor')\n",
    "ax1.set_ylabel('Accuracy', color='g')\n",
    "ax2.set_ylabel('p rule', color='b')\n",
    "ax2.set_title('Test Accuracy and p rule')\n",
    "ax2.set_ylim(0, 1)\n",
    "plt.show()"
   ]
  },
  {
   "cell_type": "code",
   "execution_count": 39,
   "id": "cff3f4f5",
   "metadata": {},
   "outputs": [
    {
     "data": {
      "text/plain": [
       "Text(0.5, 1.0, 'Test calibration')"
      ]
     },
     "execution_count": 39,
     "metadata": {},
     "output_type": "execute_result"
    },
    {
     "data": {
      "image/png": "[encoded data removed]",
      "text/plain": [
       "<Figure size 640x480 with 1 Axes>"
      ]
     },
     "metadata": {},
     "output_type": "display_data"
    }
   ],
   "source": [
    "plt.plot(gamma_list, cal_list_te)\n",
    "plt.xlabel('gamma - loss factor')\n",
    "plt.ylabel('calibration')\n",
    "plt.title('Test calibration')"
   ]
  },
  {
   "cell_type": "code",
   "execution_count": 40,
   "id": "3588bb6c",
   "metadata": {},
   "outputs": [
    {
     "data": {
      "text/plain": [
       "Text(0.5, 1.0, 'Test parity')"
      ]
     },
     "execution_count": 40,
     "metadata": {},
     "output_type": "execute_result"
    },
    {
     "data": {
      "image/png": "[encoded data removed]",
      "text/plain": [
       "<Figure size 640x480 with 1 Axes>"
      ]
     },
     "metadata": {},
     "output_type": "display_data"
    }
   ],
   "source": [
    "plt.plot(gamma_list, parity_list_te)\n",
    "plt.xlabel('gamma - loss factor')\n",
    "plt.ylabel('parity')\n",
    "plt.title('Test parity')"
   ]
  },
  {
   "cell_type": "code",
   "execution_count": 41,
   "id": "4990b69e",
   "metadata": {},
   "outputs": [
    {
     "data": {
      "text/plain": [
       "Text(0.5, 1.0, 'Test EOD')"
      ]
     },
     "execution_count": 41,
     "metadata": {},
     "output_type": "execute_result"
    },
    {
     "data": {
      "image/png": "[encoded data removed]",
      "text/plain": [
       "<Figure size 640x480 with 1 Axes>"
      ]
     },
     "metadata": {},
     "output_type": "display_data"
    }
   ],
   "source": [
    "plt.plot(gamma_list, EOD_te)\n",
    "plt.xlabel('gamma - loss factor')\n",
    "plt.ylabel('EOD')\n",
    "plt.title('Test EOD')"
   ]
  },
  {
   "cell_type": "code",
   "execution_count": null,
   "id": "bb16715d",
   "metadata": {},
   "outputs": [],
   "source": []
  }
 ],
 "metadata": {
  "kernelspec": {
   "display_name": "Python 3 (ipykernel)",
   "language": "python",
   "name": "python3"
  },
  "language_info": {
   "codemirror_mode": {
    "name": "ipython",
    "version": 3
   },
   "file_extension": ".py",
   "mimetype": "text/x-python",
   "name": "python",
   "nbconvert_exporter": "python",
   "pygments_lexer": "ipython3",
   "version": "3.7.13"
  }
 },
 "nbformat": 4,
 "nbformat_minor": 5
}
